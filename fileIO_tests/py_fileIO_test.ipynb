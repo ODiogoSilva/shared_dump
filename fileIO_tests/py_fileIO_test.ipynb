{
 "cells": [
  {
   "cell_type": "code",
   "execution_count": 1,
   "metadata": {
    "collapsed": true
   },
   "outputs": [],
   "source": [
    "import os\n",
    "import sqlite3\n",
    "from os.path import join\n",
    "import shutil"
   ]
  },
  {
   "cell_type": "code",
   "execution_count": 2,
   "metadata": {
    "collapsed": true
   },
   "outputs": [],
   "source": [
    "str_to_write = \"a\"*500"
   ]
  },
  {
   "cell_type": "code",
   "execution_count": 3,
   "metadata": {
    "collapsed": true
   },
   "outputs": [],
   "source": [
    "tdir = \"temp\"\n",
    "\n",
    "def create_files():\n",
    "    os.makedirs(tdir)\n",
    "    \n",
    "    for i in xrange(50000):\n",
    "        with open(join(tdir, \"{}.txt\".format(i)), \"w\") as fh:\n",
    "            fh.write(str_to_write)\n",
    "\n",
    "def remove_files():\n",
    "    for i in os.listdir(tdir):\n",
    "        os.remove(join(tdir, i))\n",
    "\n",
    "def remove_dirtree():\n",
    "    shutil.rmtree(tdir)"
   ]
  },
  {
   "cell_type": "code",
   "execution_count": 21,
   "metadata": {
    "collapsed": false
   },
   "outputs": [
    {
     "name": "stdout",
     "output_type": "stream",
     "text": [
      "Wall time: 21.5 s\n"
     ]
    }
   ],
   "source": [
    "#%time create_files()\n",
    "#%time remove_files()\n",
    "%time remove_dirtree()"
   ]
  },
  {
   "cell_type": "code",
   "execution_count": 23,
   "metadata": {
    "collapsed": false
   },
   "outputs": [
    {
     "data": {
      "text/plain": [
       "<sqlite3.Cursor at 0x2ea5960>"
      ]
     },
     "execution_count": 23,
     "metadata": {},
     "output_type": "execute_result"
    }
   ],
   "source": [
    "con = sqlite3.connect(\"testedb\")\n",
    "cur = con.cursor()\n",
    "\n",
    "cur.execute(\"CREATE TABLE teste (v1 INT, v2 TEXT)\")"
   ]
  },
  {
   "cell_type": "code",
   "execution_count": 24,
   "metadata": {
    "collapsed": true
   },
   "outputs": [],
   "source": [
    "def populate_table():\n",
    "    for i in range(50000):\n",
    "        cur.execute(\"INSERT INTO teste VALUES (?,?)\",\n",
    "                    (i, str(i)))\n",
    "\n",
    "def query_table():\n",
    "    for i in cur.execute(\"SELECT * FROM teste\"):\n",
    "        pass\n"
   ]
  },
  {
   "cell_type": "code",
   "execution_count": 26,
   "metadata": {
    "collapsed": false
   },
   "outputs": [
    {
     "name": "stdout",
     "output_type": "stream",
     "text": [
      "Wall time: 32 ms\n"
     ]
    }
   ],
   "source": [
    "#%time populate_table()\n",
    "%time query_table()"
   ]
  },
  {
   "cell_type": "code",
   "execution_count": 27,
   "metadata": {
    "collapsed": false
   },
   "outputs": [
    {
     "data": {
      "text/plain": [
       "<sqlite3.Cursor at 0x2ea5960>"
      ]
     },
     "execution_count": 27,
     "metadata": {},
     "output_type": "execute_result"
    }
   ],
   "source": [
    "cur.execute(\"CREATE TABLE teste2 (v1 INT, v2 TEXT)\")\n",
    "cur.execute(\"CREATE INDEX myidx ON teste2(v1)\")"
   ]
  },
  {
   "cell_type": "code",
   "execution_count": 28,
   "metadata": {
    "collapsed": true
   },
   "outputs": [],
   "source": [
    "def populate_tablek():\n",
    "    for i in range(50000):\n",
    "        cur.execute(\"INSERT INTO teste2 VALUES (?,?)\",\n",
    "                    (i, str(i)))\n",
    "\n",
    "def query_tablek():\n",
    "    for i in cur.execute(\"SELECT * FROM teste2\"):\n",
    "        pass"
   ]
  },
  {
   "cell_type": "code",
   "execution_count": null,
   "metadata": {
    "collapsed": false
   },
   "outputs": [],
   "source": [
    "%time populate_tablek()\n",
    "%time query_tablek()"
   ]
  },
  {
   "cell_type": "code",
   "execution_count": 22,
   "metadata": {
    "collapsed": true
   },
   "outputs": [],
   "source": [
    "con.close()"
   ]
  }
 ],
 "metadata": {
  "anaconda-cloud": {},
  "kernelspec": {
   "display_name": "Python [default]",
   "language": "python",
   "name": "python2"
  },
  "language_info": {
   "codemirror_mode": {
    "name": "ipython",
    "version": 2
   },
   "file_extension": ".py",
   "mimetype": "text/x-python",
   "name": "python",
   "nbconvert_exporter": "python",
   "pygments_lexer": "ipython2",
   "version": "2.7.12"
  }
 },
 "nbformat": 4,
 "nbformat_minor": 2
}
